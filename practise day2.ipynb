{
 "cells": [
  {
   "cell_type": "code",
   "execution_count": 1,
   "id": "41db50b3",
   "metadata": {},
   "outputs": [
    {
     "name": "stdout",
     "output_type": "stream",
     "text": [
      "jhon\n"
     ]
    }
   ],
   "source": [
    "name1=\"jhon\"\n",
    "print(name1)"
   ]
  },
  {
   "cell_type": "markdown",
   "id": "fac071c0",
   "metadata": {},
   "source": []
  },
  {
   "cell_type": "code",
   "execution_count": 2,
   "id": "ca152694",
   "metadata": {},
   "outputs": [
    {
     "name": "stdout",
     "output_type": "stream",
     "text": [
      "ka paul\n"
     ]
    }
   ],
   "source": [
    "name3='ka paul'\n",
    "print(name3)"
   ]
  },
  {
   "cell_type": "code",
   "execution_count": 3,
   "id": "20a025b1",
   "metadata": {},
   "outputs": [
    {
     "name": "stdout",
     "output_type": "stream",
     "text": [
      "-20\n"
     ]
    }
   ],
   "source": [
    "x=3\n",
    "y=23\n",
    "print(x-y)"
   ]
  },
  {
   "cell_type": "code",
   "execution_count": 5,
   "id": "5adb080a",
   "metadata": {},
   "outputs": [
    {
     "name": "stdout",
     "output_type": "stream",
     "text": [
      "43\n"
     ]
    }
   ],
   "source": [
    "print(y-x+y)"
   ]
  },
  {
   "cell_type": "code",
   "execution_count": 6,
   "id": "083380cb",
   "metadata": {},
   "outputs": [
    {
     "name": "stdout",
     "output_type": "stream",
     "text": [
      "-40\n"
     ]
    }
   ],
   "source": [
    "k=(x-y+x+-y)\n",
    "print(k\n",
    "    )"
   ]
  },
  {
   "cell_type": "code",
   "execution_count": 8,
   "id": "843ede03",
   "metadata": {},
   "outputs": [
    {
     "data": {
      "text/plain": [
       "str"
      ]
     },
     "execution_count": 8,
     "metadata": {},
     "output_type": "execute_result"
    }
   ],
   "source": [
    "type(name3\n",
    "    )"
   ]
  },
  {
   "cell_type": "code",
   "execution_count": 9,
   "id": "a3d0728b",
   "metadata": {},
   "outputs": [
    {
     "data": {
      "text/plain": [
       "str"
      ]
     },
     "execution_count": 9,
     "metadata": {},
     "output_type": "execute_result"
    }
   ],
   "source": [
    "type(name1)"
   ]
  },
  {
   "cell_type": "markdown",
   "id": "4d0a2ab0",
   "metadata": {},
   "source": [
    "### "
   ]
  },
  {
   "cell_type": "code",
   "execution_count": null,
   "id": "aeae4b29",
   "metadata": {},
   "outputs": [],
   "source": [
    "# req :to get in right format \n"
   ]
  },
  {
   "cell_type": "code",
   "execution_count": 10,
   "id": "8aca580e",
   "metadata": {},
   "outputs": [
    {
     "name": "stdout",
     "output_type": "stream",
     "text": [
      "ka paul\n"
     ]
    }
   ],
   "source": [
    "print (name3)"
   ]
  },
  {
   "cell_type": "code",
   "execution_count": 11,
   "id": "cba8ab0d",
   "metadata": {},
   "outputs": [
    {
     "name": "stdout",
     "output_type": "stream",
     "text": [
      "jhon\n"
     ]
    }
   ],
   "source": [
    "print(name1)"
   ]
  },
  {
   "cell_type": "code",
   "execution_count": 14,
   "id": "136e905e",
   "metadata": {},
   "outputs": [
    {
     "name": "stdout",
     "output_type": "stream",
     "text": [
      "Jhon\n"
     ]
    }
   ],
   "source": [
    "print(name1.title())"
   ]
  },
  {
   "cell_type": "code",
   "execution_count": 15,
   "id": "e36aa25b",
   "metadata": {},
   "outputs": [
    {
     "name": "stdout",
     "output_type": "stream",
     "text": [
      "JHON\n"
     ]
    }
   ],
   "source": [
    "print(name1.upper())"
   ]
  },
  {
   "cell_type": "code",
   "execution_count": 16,
   "id": "c7713dfa",
   "metadata": {},
   "outputs": [
    {
     "name": "stdout",
     "output_type": "stream",
     "text": [
      "WASTE MANAGEMENT THEORY IS FOUNDED ON THE EXPECTATION THAT WASTE MANAGEMENT IS TO PREVENT WASTE CAUSING DAMAGE\n"
     ]
    }
   ],
   "source": [
    "firstname=\"Waste Management Theory is founded on the expectation that waste management is to prevent waste causing damage\"\n",
    "print(firstname.upper())"
   ]
  },
  {
   "cell_type": "code",
   "execution_count": 17,
   "id": "cf0c3840",
   "metadata": {},
   "outputs": [
    {
     "name": "stdout",
     "output_type": "stream",
     "text": [
      "waste management theory is founded on the expectation that waste management is to prevent waste causing damage\n"
     ]
    }
   ],
   "source": [
    "print(firstname.lower())"
   ]
  },
  {
   "cell_type": "code",
   "execution_count": 18,
   "id": "8358cba5",
   "metadata": {},
   "outputs": [
    {
     "name": "stdout",
     "output_type": "stream",
     "text": [
      "Waste Management Theory Is Founded On The Expectation That Waste Management Is To Prevent Waste Causing Damage\n"
     ]
    }
   ],
   "source": [
    "print(firstname.title())"
   ]
  },
  {
   "cell_type": "code",
   "execution_count": null,
   "id": "9bd8698d",
   "metadata": {},
   "outputs": [],
   "source": []
  }
 ],
 "metadata": {
  "kernelspec": {
   "display_name": "Python 3 (ipykernel)",
   "language": "python",
   "name": "python3"
  },
  "language_info": {
   "codemirror_mode": {
    "name": "ipython",
    "version": 3
   },
   "file_extension": ".py",
   "mimetype": "text/x-python",
   "name": "python",
   "nbconvert_exporter": "python",
   "pygments_lexer": "ipython3",
   "version": "3.9.13"
  }
 },
 "nbformat": 4,
 "nbformat_minor": 5
}
